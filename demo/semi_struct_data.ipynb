{
 "cells": [
  {
   "cell_type": "markdown",
   "metadata": {},
   "source": [
    "# Manejo de JSON en Python"
   ]
  },
  {
   "cell_type": "markdown",
   "metadata": {},
   "source": [
    "### Importar JSON y cargar un archivo"
   ]
  },
  {
   "cell_type": "code",
   "execution_count": 1,
   "metadata": {},
   "outputs": [],
   "source": [
    "\n",
    "# Import the json lib\n",
    "import json\n",
    "\n",
    "# Opening JSON file\n",
    "json_file = open('characters_items.json')\n",
    "\n",
    "# Load file as JSON data\n",
    "json_data = json.load(json_file)"
   ]
  },
  {
   "cell_type": "markdown",
   "metadata": {},
   "source": [
    "### Selección de datos"
   ]
  },
  {
   "cell_type": "code",
   "execution_count": 2,
   "metadata": {},
   "outputs": [
    {
     "name": "stdout",
     "output_type": "stream",
     "text": [
      "{'id': 1, 'username': 'ccaush0', 'class': 'Hero', 'level': 33, 'hp': 58, 'inventory': [{'id': 1, 'item_name': 'Lapis', 'price': 87755, 'rarity': 5, 'type': 'Map', 'atk': 0, 'def': 0, 'hp_regen': 0}]}\n",
      "{'id': 2, 'username': 'egotfrey1', 'class': 'Theif', 'level': 76, 'hp': 85, 'inventory': [{'id': 1, 'item_name': 'Seed', 'price': 51954, 'rarity': 5, 'type': 'Bow', 'atk': 245, 'def': 0, 'hp_regen': 0}, {'id': 2, 'item_name': 'Energy Typhoon', 'price': 209213, 'rarity': 3, 'type': 'Key', 'atk': 0, 'def': 0, 'hp_regen': 0}, {'id': 3, 'item_name': 'Dinoblade', 'price': 103290, 'rarity': 1, 'type': 'Map', 'atk': 0, 'def': 0, 'hp_regen': 0}, {'id': 4, 'item_name': 'Energy Typhoon', 'price': 251727, 'rarity': 4, 'type': 'Key', 'atk': 0, 'def': 0, 'hp_regen': 0}, {'id': 5, 'item_name': 'Extortion of Vulnerabilities', 'price': 221274, 'rarity': 4, 'type': 'Gem', 'atk': 0, 'def': 0, 'hp_regen': 0}]}\n",
      "{'id': 3, 'username': 'umacnalley2', 'class': 'Spellcaster', 'level': 54, 'hp': 126, 'inventory': [{'id': 1, 'item_name': 'Dinoblade', 'price': 106877, 'rarity': 1, 'type': 'Key', 'atk': 0, 'def': 0, 'hp_regen': 0}, {'id': 2, 'item_name': 'Energy Typhoon', 'price': 63209, 'rarity': 1, 'type': 'Cape', 'atk': 0, 'def': 202, 'hp_regen': 0}, {'id': 3, 'item_name': 'Stone Arm', 'price': 81351, 'rarity': 3, 'type': 'Armor', 'atk': 0, 'def': 0, 'hp_regen': 0}]}\n",
      "{'id': 4, 'username': 'cstribbling3', 'class': 'Blade Dancer', 'level': 67, 'hp': 153, 'inventory': [{'id': 1, 'item_name': 'Silver Sword', 'price': 15535, 'rarity': 5, 'type': 'Gem', 'atk': 0, 'def': 0, 'hp_regen': 0}, {'id': 2, 'item_name': 'Potion', 'price': 122947, 'rarity': 1, 'type': 'Shield', 'atk': 0, 'def': 129, 'hp_regen': 0}, {'id': 3, 'item_name': '', 'price': 82939, 'rarity': 5, 'type': 'Beer', 'atk': 0, 'def': 0, 'hp_regen': 21}]}\n",
      "{'id': 5, 'username': 'bmaunders4', 'class': 'Viking', 'level': 14, 'hp': 142, 'inventory': []}\n"
     ]
    }
   ],
   "source": [
    "# Print first 10 of loaded JSON\n",
    "for i in json_data[:5]:\n",
    "    print(i)"
   ]
  },
  {
   "cell_type": "code",
   "execution_count": 3,
   "metadata": {},
   "outputs": [
    {
     "name": "stdout",
     "output_type": "stream",
     "text": [
      "[{'id': 1, 'item_name': 'Lapis', 'price': 87755, 'rarity': 5, 'type': 'Map', 'atk': 0, 'def': 0, 'hp_regen': 0}]\n",
      "[{'id': 1, 'item_name': 'Seed', 'price': 51954, 'rarity': 5, 'type': 'Bow', 'atk': 245, 'def': 0, 'hp_regen': 0}, {'id': 2, 'item_name': 'Energy Typhoon', 'price': 209213, 'rarity': 3, 'type': 'Key', 'atk': 0, 'def': 0, 'hp_regen': 0}, {'id': 3, 'item_name': 'Dinoblade', 'price': 103290, 'rarity': 1, 'type': 'Map', 'atk': 0, 'def': 0, 'hp_regen': 0}, {'id': 4, 'item_name': 'Energy Typhoon', 'price': 251727, 'rarity': 4, 'type': 'Key', 'atk': 0, 'def': 0, 'hp_regen': 0}, {'id': 5, 'item_name': 'Extortion of Vulnerabilities', 'price': 221274, 'rarity': 4, 'type': 'Gem', 'atk': 0, 'def': 0, 'hp_regen': 0}]\n",
      "[{'id': 1, 'item_name': 'Dinoblade', 'price': 106877, 'rarity': 1, 'type': 'Key', 'atk': 0, 'def': 0, 'hp_regen': 0}, {'id': 2, 'item_name': 'Energy Typhoon', 'price': 63209, 'rarity': 1, 'type': 'Cape', 'atk': 0, 'def': 202, 'hp_regen': 0}, {'id': 3, 'item_name': 'Stone Arm', 'price': 81351, 'rarity': 3, 'type': 'Armor', 'atk': 0, 'def': 0, 'hp_regen': 0}]\n",
      "[{'id': 1, 'item_name': 'Silver Sword', 'price': 15535, 'rarity': 5, 'type': 'Gem', 'atk': 0, 'def': 0, 'hp_regen': 0}, {'id': 2, 'item_name': 'Potion', 'price': 122947, 'rarity': 1, 'type': 'Shield', 'atk': 0, 'def': 129, 'hp_regen': 0}, {'id': 3, 'item_name': '', 'price': 82939, 'rarity': 5, 'type': 'Beer', 'atk': 0, 'def': 0, 'hp_regen': 21}]\n",
      "[]\n"
     ]
    }
   ],
   "source": [
    "# Print first 10 character.inventory of loaded JSON\n",
    "for i in json_data[:5]:\n",
    "    print(i['inventory'])"
   ]
  },
  {
   "cell_type": "code",
   "execution_count": 4,
   "metadata": {},
   "outputs": [
    {
     "name": "stdout",
     "output_type": "stream",
     "text": [
      "\n",
      "Username: ccaush0 - Hero\n",
      "Inventory:\n",
      "- Lapis\n",
      "\n",
      "Username: egotfrey1 - Theif\n",
      "Inventory:\n",
      "- Seed\n",
      "- Energy Typhoon\n",
      "- Dinoblade\n",
      "- Energy Typhoon\n",
      "- Extortion of Vulnerabilities\n",
      "\n",
      "Username: umacnalley2 - Spellcaster\n",
      "Inventory:\n",
      "- Dinoblade\n",
      "- Energy Typhoon\n",
      "- Stone Arm\n",
      "\n",
      "Username: cstribbling3 - Blade Dancer\n",
      "Inventory:\n",
      "- Silver Sword\n",
      "- Potion\n",
      "- \n",
      "\n",
      "Username: bmaunders4 - Viking\n",
      "Inventory:\n"
     ]
    }
   ],
   "source": [
    "# Print first 10 character.inventory of loaded JSON\n",
    "for i in json_data[:5]:\n",
    "    print('\\nUsername: ' + i['username'] + ' - ' + i['class'] )\n",
    "    print('Inventory:')\n",
    "    for j in i['inventory']:\n",
    "        print('- ' + j['item_name'])"
   ]
  },
  {
   "cell_type": "markdown",
   "metadata": {},
   "source": [
    "# Convertir JSON a CSV\n",
    "\n",
    "### Importar pandas y cargar archivo"
   ]
  },
  {
   "cell_type": "code",
   "execution_count": 5,
   "metadata": {},
   "outputs": [],
   "source": [
    "# Import Pandas and Display\n",
    "import pandas as pd\n",
    "from IPython.display import display\n",
    "\n",
    "# Load JSON and save as CSV\n",
    "dataframe = pd.read_json (r'characters_items.json')\n",
    "dataframe.to_csv(r'characters_items.csv', index = None)"
   ]
  },
  {
   "cell_type": "markdown",
   "metadata": {},
   "source": [
    "### Leer y mostrar CSV"
   ]
  },
  {
   "cell_type": "code",
   "execution_count": 6,
   "metadata": {},
   "outputs": [
    {
     "data": {
      "text/html": [
       "<div>\n",
       "<style scoped>\n",
       "    .dataframe tbody tr th:only-of-type {\n",
       "        vertical-align: middle;\n",
       "    }\n",
       "\n",
       "    .dataframe tbody tr th {\n",
       "        vertical-align: top;\n",
       "    }\n",
       "\n",
       "    .dataframe thead th {\n",
       "        text-align: right;\n",
       "    }\n",
       "</style>\n",
       "<table border=\"1\" class=\"dataframe\">\n",
       "  <thead>\n",
       "    <tr style=\"text-align: right;\">\n",
       "      <th></th>\n",
       "      <th>id</th>\n",
       "      <th>username</th>\n",
       "      <th>class</th>\n",
       "      <th>level</th>\n",
       "      <th>hp</th>\n",
       "      <th>inventory</th>\n",
       "    </tr>\n",
       "  </thead>\n",
       "  <tbody>\n",
       "    <tr>\n",
       "      <th>0</th>\n",
       "      <td>1</td>\n",
       "      <td>ccaush0</td>\n",
       "      <td>Hero</td>\n",
       "      <td>33</td>\n",
       "      <td>58</td>\n",
       "      <td>[{'id': 1, 'item_name': 'Lapis', 'price': 8775...</td>\n",
       "    </tr>\n",
       "    <tr>\n",
       "      <th>1</th>\n",
       "      <td>2</td>\n",
       "      <td>egotfrey1</td>\n",
       "      <td>Theif</td>\n",
       "      <td>76</td>\n",
       "      <td>85</td>\n",
       "      <td>[{'id': 1, 'item_name': 'Seed', 'price': 51954...</td>\n",
       "    </tr>\n",
       "    <tr>\n",
       "      <th>2</th>\n",
       "      <td>3</td>\n",
       "      <td>umacnalley2</td>\n",
       "      <td>Spellcaster</td>\n",
       "      <td>54</td>\n",
       "      <td>126</td>\n",
       "      <td>[{'id': 1, 'item_name': 'Dinoblade', 'price': ...</td>\n",
       "    </tr>\n",
       "    <tr>\n",
       "      <th>3</th>\n",
       "      <td>4</td>\n",
       "      <td>cstribbling3</td>\n",
       "      <td>Blade Dancer</td>\n",
       "      <td>67</td>\n",
       "      <td>153</td>\n",
       "      <td>[{'id': 1, 'item_name': 'Silver Sword', 'price...</td>\n",
       "    </tr>\n",
       "    <tr>\n",
       "      <th>4</th>\n",
       "      <td>5</td>\n",
       "      <td>bmaunders4</td>\n",
       "      <td>Viking</td>\n",
       "      <td>14</td>\n",
       "      <td>142</td>\n",
       "      <td>[]</td>\n",
       "    </tr>\n",
       "    <tr>\n",
       "      <th>...</th>\n",
       "      <td>...</td>\n",
       "      <td>...</td>\n",
       "      <td>...</td>\n",
       "      <td>...</td>\n",
       "      <td>...</td>\n",
       "      <td>...</td>\n",
       "    </tr>\n",
       "    <tr>\n",
       "      <th>995</th>\n",
       "      <td>996</td>\n",
       "      <td>lbeadern</td>\n",
       "      <td>Paladin</td>\n",
       "      <td>8</td>\n",
       "      <td>34</td>\n",
       "      <td>[{'id': 1, 'item_name': 'Slasher', 'price': 10...</td>\n",
       "    </tr>\n",
       "    <tr>\n",
       "      <th>996</th>\n",
       "      <td>997</td>\n",
       "      <td>ppennellsro</td>\n",
       "      <td>Hero</td>\n",
       "      <td>51</td>\n",
       "      <td>194</td>\n",
       "      <td>[]</td>\n",
       "    </tr>\n",
       "    <tr>\n",
       "      <th>997</th>\n",
       "      <td>998</td>\n",
       "      <td>chaukeyrp</td>\n",
       "      <td>Druid</td>\n",
       "      <td>4</td>\n",
       "      <td>75</td>\n",
       "      <td>[{'id': 1, 'item_name': 'Mop', 'price': 194578...</td>\n",
       "    </tr>\n",
       "    <tr>\n",
       "      <th>998</th>\n",
       "      <td>999</td>\n",
       "      <td>tperrettrq</td>\n",
       "      <td>Bard</td>\n",
       "      <td>19</td>\n",
       "      <td>30</td>\n",
       "      <td>[{'id': 1, 'item_name': 'Elixir', 'price': 175...</td>\n",
       "    </tr>\n",
       "    <tr>\n",
       "      <th>999</th>\n",
       "      <td>1000</td>\n",
       "      <td>owildishrr</td>\n",
       "      <td>Paladin</td>\n",
       "      <td>12</td>\n",
       "      <td>27</td>\n",
       "      <td>[{'id': 1, 'item_name': 'Extinguish', 'price':...</td>\n",
       "    </tr>\n",
       "  </tbody>\n",
       "</table>\n",
       "<p>1000 rows × 6 columns</p>\n",
       "</div>"
      ],
      "text/plain": [
       "       id      username         class  level   hp  \\\n",
       "0       1       ccaush0          Hero     33   58   \n",
       "1       2     egotfrey1         Theif     76   85   \n",
       "2       3   umacnalley2   Spellcaster     54  126   \n",
       "3       4  cstribbling3  Blade Dancer     67  153   \n",
       "4       5    bmaunders4        Viking     14  142   \n",
       "..    ...           ...           ...    ...  ...   \n",
       "995   996      lbeadern       Paladin      8   34   \n",
       "996   997   ppennellsro          Hero     51  194   \n",
       "997   998     chaukeyrp         Druid      4   75   \n",
       "998   999    tperrettrq          Bard     19   30   \n",
       "999  1000    owildishrr       Paladin     12   27   \n",
       "\n",
       "                                             inventory  \n",
       "0    [{'id': 1, 'item_name': 'Lapis', 'price': 8775...  \n",
       "1    [{'id': 1, 'item_name': 'Seed', 'price': 51954...  \n",
       "2    [{'id': 1, 'item_name': 'Dinoblade', 'price': ...  \n",
       "3    [{'id': 1, 'item_name': 'Silver Sword', 'price...  \n",
       "4                                                   []  \n",
       "..                                                 ...  \n",
       "995  [{'id': 1, 'item_name': 'Slasher', 'price': 10...  \n",
       "996                                                 []  \n",
       "997  [{'id': 1, 'item_name': 'Mop', 'price': 194578...  \n",
       "998  [{'id': 1, 'item_name': 'Elixir', 'price': 175...  \n",
       "999  [{'id': 1, 'item_name': 'Extinguish', 'price':...  \n",
       "\n",
       "[1000 rows x 6 columns]"
      ]
     },
     "metadata": {},
     "output_type": "display_data"
    }
   ],
   "source": [
    "csv_file = pd.read_csv(r'characters_items.csv')\n",
    "display(csv_file)"
   ]
  }
 ],
 "metadata": {
  "interpreter": {
   "hash": "42b56738734ac51cf06bc51118481bb3dc13024137d92086c9451ede12ff4c01"
  },
  "kernelspec": {
   "display_name": "Python 3.9.7 ('base')",
   "language": "python",
   "name": "python3"
  },
  "language_info": {
   "codemirror_mode": {
    "name": "ipython",
    "version": 3
   },
   "file_extension": ".py",
   "mimetype": "text/x-python",
   "name": "python",
   "nbconvert_exporter": "python",
   "pygments_lexer": "ipython3",
   "version": "3.9.7"
  },
  "orig_nbformat": 4
 },
 "nbformat": 4,
 "nbformat_minor": 2
}
